{
 "cells": [
  {
   "cell_type": "code",
   "execution_count": 1,
   "metadata": {},
   "outputs": [],
   "source": [
    "import pandas as pd"
   ]
  },
  {
   "cell_type": "code",
   "execution_count": 2,
   "metadata": {},
   "outputs": [
    {
     "name": "stdout",
     "output_type": "stream",
     "text": [
      "Initial Freight Cost Dataset:\n",
      "  Source City Destination City Mode of Transportation  Cost  Time (in days)  \\\n",
      "0      City A           City X                  Truck   500               2   \n",
      "1      City B           City Y                   Rail   300               4   \n",
      "2      City C           City Z                    Air  1000               1   \n",
      "3      City D           City W                  Ocean   800               6   \n",
      "4      City E           City V                Courier  1500               3   \n",
      "\n",
      "   Distance (in km)  \n",
      "0               200  \n",
      "1               500  \n",
      "2               800  \n",
      "3              1000  \n",
      "4               300  \n"
     ]
    }
   ],
   "source": [
    "# Create dummy data\n",
    "data = {\n",
    "    'Source City': ['City A', 'City B', 'City C', 'City D', 'City E'],\n",
    "    'Destination City': ['City X', 'City Y', 'City Z', 'City W', 'City V'],\n",
    "    'Mode of Transportation': ['Truck', 'Rail', 'Air', 'Ocean', 'Courier'],\n",
    "    'Cost': [500, 300, 1000, 800, 1500],\n",
    "    'Time (in days)': [2, 4, 1, 6, 3],\n",
    "    'Distance (in km)': [200, 500, 800, 1000, 300]\n",
    "}\n",
    "\n",
    "df = pd.DataFrame(data)\n",
    "\n",
    "# Display the initial dataset\n",
    "print(\"Initial Freight Cost Dataset:\")\n",
    "print(df)"
   ]
  },
  {
   "cell_type": "code",
   "execution_count": 4,
   "metadata": {},
   "outputs": [],
   "source": [
    "# Sort by cost (low to high)\n",
    "sorted_by_cost = df.sort_values(by='Cost')\n",
    "\n",
    "# Sort by time (low to high)\n",
    "sorted_by_time = df.sort_values(by='Time (in days)')\n",
    "\n",
    "# Sort by cost-time trade-off (weighted sum of cost and time)\n",
    "df['Cost-Time Trade-off'] = df['Cost'] + 0.5 * df['Time (in days)']\n",
    "sorted_by_tradeoff = df.sort_values(by='Cost-Time Trade-off')\n",
    "\n"
   ]
  },
  {
   "cell_type": "code",
   "execution_count": 5,
   "metadata": {},
   "outputs": [
    {
     "name": "stdout",
     "output_type": "stream",
     "text": [
      "\n",
      "Freight Cost Optimization - By Cost:\n",
      "  Source City Destination City Mode of Transportation  Cost  Time (in days)  \\\n",
      "1      City B           City Y                   Rail   300               4   \n",
      "0      City A           City X                  Truck   500               2   \n",
      "3      City D           City W                  Ocean   800               6   \n",
      "2      City C           City Z                    Air  1000               1   \n",
      "4      City E           City V                Courier  1500               3   \n",
      "\n",
      "   Distance (in km)  Cost-Time Trade-off  \n",
      "1               500                302.0  \n",
      "0               200                501.0  \n",
      "3              1000                803.0  \n",
      "2               800               1000.5  \n",
      "4               300               1501.5  \n",
      "\n",
      "Freight Cost Optimization - By Time:\n",
      "  Source City Destination City Mode of Transportation  Cost  Time (in days)  \\\n",
      "2      City C           City Z                    Air  1000               1   \n",
      "0      City A           City X                  Truck   500               2   \n",
      "4      City E           City V                Courier  1500               3   \n",
      "1      City B           City Y                   Rail   300               4   \n",
      "3      City D           City W                  Ocean   800               6   \n",
      "\n",
      "   Distance (in km)  Cost-Time Trade-off  \n",
      "2               800               1000.5  \n",
      "0               200                501.0  \n",
      "4               300               1501.5  \n",
      "1               500                302.0  \n",
      "3              1000                803.0  \n",
      "\n",
      "Freight Cost Optimization - By Cost-Time Trade-off:\n",
      "  Source City Destination City Mode of Transportation  Cost  Time (in days)  \\\n",
      "1      City B           City Y                   Rail   300               4   \n",
      "0      City A           City X                  Truck   500               2   \n",
      "3      City D           City W                  Ocean   800               6   \n",
      "2      City C           City Z                    Air  1000               1   \n",
      "4      City E           City V                Courier  1500               3   \n",
      "\n",
      "   Distance (in km)  Cost-Time Trade-off  \n",
      "1               500                302.0  \n",
      "0               200                501.0  \n",
      "3              1000                803.0  \n",
      "2               800               1000.5  \n",
      "4               300               1501.5  \n",
      "\n",
      "Freight Cost Optimization - By Distance:\n",
      "  Source City Destination City Mode of Transportation  Cost  Time (in days)  \\\n",
      "0      City A           City X                  Truck   500               2   \n",
      "4      City E           City V                Courier  1500               3   \n",
      "1      City B           City Y                   Rail   300               4   \n",
      "2      City C           City Z                    Air  1000               1   \n",
      "3      City D           City W                  Ocean   800               6   \n",
      "\n",
      "   Distance (in km)  Cost-Time Trade-off  \n",
      "0               200                501.0  \n",
      "4               300               1501.5  \n",
      "1               500                302.0  \n",
      "2               800               1000.5  \n",
      "3              1000                803.0  \n"
     ]
    }
   ],
   "source": [
    "# Sort by distance (low to high)\n",
    "sorted_by_distance = df.sort_values(by='Distance (in km)')\n",
    "\n",
    "# Display the optimized results\n",
    "print(\"\\nFreight Cost Optimization - By Cost:\")\n",
    "print(sorted_by_cost)\n",
    "\n",
    "print(\"\\nFreight Cost Optimization - By Time:\")\n",
    "print(sorted_by_time)\n",
    "\n",
    "print(\"\\nFreight Cost Optimization - By Cost-Time Trade-off:\")\n",
    "print(sorted_by_tradeoff)\n",
    "\n",
    "print(\"\\nFreight Cost Optimization - By Distance:\")\n",
    "print(sorted_by_distance)"
   ]
  },
  {
   "cell_type": "code",
   "execution_count": 6,
   "metadata": {},
   "outputs": [],
   "source": [
    "# Create dummy data for incoming shipments\n",
    "incoming_shipments = {\n",
    "    'Shipment ID': [1, 2],\n",
    "    'Origin City': ['City A', 'City B'],\n",
    "    'Destination City': ['City X', 'City X'],\n",
    "    'Mode of Transportation': ['Air', 'Road'],\n",
    "    'Cost': [1000, 500],\n",
    "    'Time (in days)': [1, 3]\n",
    "}\n",
    "\n",
    "incoming_df = pd.DataFrame(incoming_shipments)"
   ]
  },
  {
   "cell_type": "code",
   "execution_count": 7,
   "metadata": {},
   "outputs": [
    {
     "data": {
      "text/html": [
       "<div>\n",
       "<style scoped>\n",
       "    .dataframe tbody tr th:only-of-type {\n",
       "        vertical-align: middle;\n",
       "    }\n",
       "\n",
       "    .dataframe tbody tr th {\n",
       "        vertical-align: top;\n",
       "    }\n",
       "\n",
       "    .dataframe thead th {\n",
       "        text-align: right;\n",
       "    }\n",
       "</style>\n",
       "<table border=\"1\" class=\"dataframe\">\n",
       "  <thead>\n",
       "    <tr style=\"text-align: right;\">\n",
       "      <th></th>\n",
       "      <th>Shipment ID</th>\n",
       "      <th>Origin City</th>\n",
       "      <th>Destination City</th>\n",
       "      <th>Mode of Transportation</th>\n",
       "      <th>Cost</th>\n",
       "      <th>Time (in days)</th>\n",
       "    </tr>\n",
       "  </thead>\n",
       "  <tbody>\n",
       "    <tr>\n",
       "      <th>0</th>\n",
       "      <td>1</td>\n",
       "      <td>City A</td>\n",
       "      <td>City X</td>\n",
       "      <td>Air</td>\n",
       "      <td>1000</td>\n",
       "      <td>1</td>\n",
       "    </tr>\n",
       "    <tr>\n",
       "      <th>1</th>\n",
       "      <td>2</td>\n",
       "      <td>City B</td>\n",
       "      <td>City X</td>\n",
       "      <td>Road</td>\n",
       "      <td>500</td>\n",
       "      <td>3</td>\n",
       "    </tr>\n",
       "  </tbody>\n",
       "</table>\n",
       "</div>"
      ],
      "text/plain": [
       "   Shipment ID Origin City Destination City Mode of Transportation  Cost  \\\n",
       "0            1      City A           City X                    Air  1000   \n",
       "1            2      City B           City X                   Road   500   \n",
       "\n",
       "   Time (in days)  \n",
       "0               1  \n",
       "1               3  "
      ]
     },
     "execution_count": 7,
     "metadata": {},
     "output_type": "execute_result"
    }
   ],
   "source": [
    "incoming_df"
   ]
  },
  {
   "cell_type": "code",
   "execution_count": 12,
   "metadata": {},
   "outputs": [],
   "source": [
    "# Create dummy data for outgoing shipment\n",
    "outgoing_shipment = {\n",
    "    'Shipment ID': [3],\n",
    "    'Origin City': ['City X'],\n",
    "    'Destination City': ['City Y'],\n",
    "    'Mode of Transportation': ['Air'],\n",
    "    'Cost': [800],\n",
    "    'Time (in days)': [2]\n",
    "}\n",
    "\n",
    "outgoing_df = pd.DataFrame(outgoing_shipment)"
   ]
  },
  {
   "cell_type": "code",
   "execution_count": 13,
   "metadata": {},
   "outputs": [
    {
     "data": {
      "text/html": [
       "<div>\n",
       "<style scoped>\n",
       "    .dataframe tbody tr th:only-of-type {\n",
       "        vertical-align: middle;\n",
       "    }\n",
       "\n",
       "    .dataframe tbody tr th {\n",
       "        vertical-align: top;\n",
       "    }\n",
       "\n",
       "    .dataframe thead th {\n",
       "        text-align: right;\n",
       "    }\n",
       "</style>\n",
       "<table border=\"1\" class=\"dataframe\">\n",
       "  <thead>\n",
       "    <tr style=\"text-align: right;\">\n",
       "      <th></th>\n",
       "      <th>Shipment ID</th>\n",
       "      <th>Origin City</th>\n",
       "      <th>Destination City</th>\n",
       "      <th>Mode of Transportation</th>\n",
       "      <th>Cost</th>\n",
       "      <th>Time (in days)</th>\n",
       "    </tr>\n",
       "  </thead>\n",
       "  <tbody>\n",
       "    <tr>\n",
       "      <th>0</th>\n",
       "      <td>3</td>\n",
       "      <td>City X</td>\n",
       "      <td>City Y</td>\n",
       "      <td>Air</td>\n",
       "      <td>800</td>\n",
       "      <td>2</td>\n",
       "    </tr>\n",
       "  </tbody>\n",
       "</table>\n",
       "</div>"
      ],
      "text/plain": [
       "   Shipment ID Origin City Destination City Mode of Transportation  Cost  \\\n",
       "0            3      City X           City Y                    Air   800   \n",
       "\n",
       "   Time (in days)  \n",
       "0               2  "
      ]
     },
     "execution_count": 13,
     "metadata": {},
     "output_type": "execute_result"
    }
   ],
   "source": [
    "outgoing_df"
   ]
  },
  {
   "cell_type": "code",
   "execution_count": 14,
   "metadata": {},
   "outputs": [
    {
     "name": "stdout",
     "output_type": "stream",
     "text": [
      "Consolidated Shipment:\n",
      "   Shipment ID Origin City Destination City Mode of Transportation  Cost  \\\n",
      "0            1      City A           City X                    Air  1000   \n",
      "1            2      City B           City X                   Road   500   \n",
      "2            3      City X           City Y                    Air   800   \n",
      "\n",
      "   Time (in days)  \n",
      "0               1  \n",
      "1               3  \n",
      "2               2  \n",
      "\n",
      "Optimization Results:\n",
      "Consolidated Cost: 2300\n",
      "Consolidated Time: 3\n",
      "Air Cost: 1800\n",
      "Road Cost: 500\n",
      "Air Time: 2\n",
      "Road Time: 3\n",
      "Optimal Mode of Transportation: Road\n"
     ]
    }
   ],
   "source": [
    "# Consolidation and optimization\n",
    "consolidated_df = pd.concat([incoming_df, outgoing_df], ignore_index=True)\n",
    "\n",
    "# Calculate overall cost and time for consolidated shipment\n",
    "consolidated_cost = consolidated_df['Cost'].sum()\n",
    "consolidated_time = consolidated_df['Time (in days)'].max()\n",
    "\n",
    "# Compare air and road costs for consolidated shipment\n",
    "air_cost = consolidated_df.loc[consolidated_df['Mode of Transportation'] == 'Air', 'Cost'].sum()\n",
    "road_cost = consolidated_df.loc[consolidated_df['Mode of Transportation'] == 'Road', 'Cost'].sum()\n",
    "\n",
    "# Compare air and road times for consolidated shipment\n",
    "air_time = consolidated_df.loc[consolidated_df['Mode of Transportation'] == 'Air', 'Time (in days)'].max()\n",
    "road_time = consolidated_df.loc[consolidated_df['Mode of Transportation'] == 'Road', 'Time (in days)'].max()\n",
    "\n",
    "# Determine the optimal mode of transportation\n",
    "optimal_mode = 'Air' if air_cost < road_cost else 'Road'\n",
    "\n",
    "# Display the optimization results\n",
    "print(\"Consolidated Shipment:\")\n",
    "print(consolidated_df)\n",
    "\n",
    "print(\"\\nOptimization Results:\")\n",
    "print(\"Consolidated Cost:\", consolidated_cost)\n",
    "print(\"Consolidated Time:\", consolidated_time)\n",
    "print(\"Air Cost:\", air_cost)\n",
    "print(\"Road Cost:\", road_cost)\n",
    "print(\"Air Time:\", air_time)\n",
    "print(\"Road Time:\", road_time)\n",
    "print(\"Optimal Mode of Transportation:\", optimal_mode)"
   ]
  },
  {
   "cell_type": "code",
   "execution_count": null,
   "metadata": {},
   "outputs": [],
   "source": []
  }
 ],
 "metadata": {
  "kernelspec": {
   "display_name": "Python 3",
   "language": "python",
   "name": "python3"
  },
  "language_info": {
   "codemirror_mode": {
    "name": "ipython",
    "version": 3
   },
   "file_extension": ".py",
   "mimetype": "text/x-python",
   "name": "python",
   "nbconvert_exporter": "python",
   "pygments_lexer": "ipython3",
   "version": "3.8.5"
  }
 },
 "nbformat": 4,
 "nbformat_minor": 4
}
